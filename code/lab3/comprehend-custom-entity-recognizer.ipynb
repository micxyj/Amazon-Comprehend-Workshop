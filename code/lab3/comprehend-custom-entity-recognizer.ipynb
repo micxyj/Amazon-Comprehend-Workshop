{
 "cells": [
  {
   "cell_type": "markdown",
   "metadata": {},
   "source": [
    "# 创建 Amazon Comprehend 自定义实体识别器\n",
    "\n",
    "本实验将提供在控制台或使用API的方式创建自定义实体识别器以及批量推理任务的方法"
   ]
  },
  {
   "cell_type": "markdown",
   "metadata": {},
   "source": [
    "### 1. 导入必要的依赖包"
   ]
  },
  {
   "cell_type": "code",
   "execution_count": null,
   "metadata": {},
   "outputs": [],
   "source": [
    "from datetime import datetime\n",
    "import boto3\n",
    "import json"
   ]
  },
  {
   "cell_type": "markdown",
   "metadata": {},
   "source": [
    "### 2. 获取 AWS 账号 ID"
   ]
  },
  {
   "cell_type": "code",
   "execution_count": null,
   "metadata": {},
   "outputs": [],
   "source": [
    "sts_client = boto3.client(\"sts\")\n",
    "account_id = sts_client.get_caller_identity()[\"Account\"]\n",
    "print(\"Your account id is {}\".format(account_id))"
   ]
  },
  {
   "cell_type": "markdown",
   "metadata": {},
   "source": [
    "### 3. 为实验创建存储桶（若在实验2中已经创建，则会输出桶已经存在） "
   ]
  },
  {
   "cell_type": "code",
   "execution_count": null,
   "metadata": {},
   "outputs": [],
   "source": [
    "bucket_name = \"comprehend-labs\" + account_id +  \"-2\"\n",
    "print (\"Bucket name used is \" + bucket_name)\n",
    "s3 = boto3.resource('s3')\n",
    "s3_client = boto3.client('s3')\n",
    "\n",
    "if (s3.Bucket(bucket_name).creation_date is None):\n",
    "    s3_client.create_bucket(Bucket=bucket_name)\n",
    "    print (\"Created bucket \" + bucket_name)\n",
    "else:\n",
    "    print (\"Bucket Exists\")"
   ]
  },
  {
   "cell_type": "markdown",
   "metadata": {},
   "source": [
    "### 4. 下载训练数据[entity list, docs]和测试数据，然后上传到s3 bucket。 "
   ]
  },
  {
   "cell_type": "code",
   "execution_count": null,
   "metadata": {},
   "outputs": [],
   "source": [
    "s3_client = boto3.client('s3')\n",
    "s3_entity_prefix = 'entity-training'\n",
    "host_name = 'http://d1fjxffqn7wkdo.cloudfront.net'\n",
    "!wget {host_name}/aws-offerings.csv\n",
    "response = s3_client.upload_file('./aws-offerings.csv', bucket_name, \"{}/aws-offerings.csv\".format(s3_entity_prefix))\n",
    "\n",
    "!wget {host_name}/aws-offerings-docs.txt\n",
    "response = s3_client.upload_file('./aws-offerings-docs.txt', bucket_name, \"{}/aws-offerings-docs.txt\".format(s3_entity_prefix))\n",
    "        \n",
    "!wget {host_name}/aws-offerings-test.txt\n",
    "response = s3_client.upload_file('./aws-offerings-test.txt', bucket_name, \"{}/aws-offerings-test.txt\".format(s3_entity_prefix))"
   ]
  },
  {
   "cell_type": "markdown",
   "metadata": {},
   "source": [
    "### 5. 查看前20行数据"
   ]
  },
  {
   "cell_type": "code",
   "execution_count": null,
   "metadata": {},
   "outputs": [],
   "source": [
    "!head -20 aws-offerings.csv"
   ]
  },
  {
   "cell_type": "code",
   "execution_count": null,
   "metadata": {},
   "outputs": [],
   "source": [
    "!head -20 aws-offerings-docs.txt"
   ]
  },
  {
   "cell_type": "markdown",
   "metadata": {},
   "source": [
    "### 6. 记录这些输出的参数，用于在控制台创建训练任务时提供"
   ]
  },
  {
   "cell_type": "code",
   "execution_count": null,
   "metadata": {},
   "outputs": [],
   "source": [
    "print(\"Entity List Location:  s3://{}/{}/aws-offerings.csv\".format(bucket_name,s3_entity_prefix))\n",
    "print(\"Training Documents Location:  s3://{}/{}/aws-offerings-docs.txt\".format(bucket_name,s3_entity_prefix))\n",
    "print(\"Test Documents Location:  s3://{}/{}/aws-offerings-test.txt\".format(bucket_name,s3_entity_prefix))\n",
    "print(\"Bucket Path:  s3://{}\".format(bucket_name))"
   ]
  },
  {
   "cell_type": "markdown",
   "metadata": {},
   "source": [
    "# 现在可以返回查看Workshop手册，根据手册中提供的步骤在控制台创建训练任务"
   ]
  },
  {
   "cell_type": "markdown",
   "metadata": {},
   "source": [
    "---"
   ]
  },
  {
   "cell_type": "markdown",
   "metadata": {},
   "source": [
    "## 下面是通过API创建训练任务和推理任务的步骤，供大家进行参考"
   ]
  },
  {
   "cell_type": "markdown",
   "metadata": {},
   "source": [
    "### 1. 获取在上一个实验中创建的角色的 ARN "
   ]
  },
  {
   "cell_type": "code",
   "execution_count": null,
   "metadata": {},
   "outputs": [],
   "source": [
    "#This name should match the name of the role that was created in the first lab.\n",
    "role_name_base = 'AmazonComprehendServiceRoleS3FullAccess-ComprehendLabs'\n",
    "prefix_random_numbers = '' #If you added random numbers to the end of the 'ComprehendLabs' prefix, put them here\n",
    "if not prefix_random_numbers:\n",
    "    role_name = \"{}{}\".format(role_name_base,prefix_random_numbers)\n",
    "else:\n",
    "    role_name = role_name_base\n",
    "iam_client = boto3.client(\"iam\")\n",
    "response = iam_client.get_role(\n",
    "    RoleName=role_name\n",
    ")\n",
    "comprehend_arn = response['Role']['Arn']\n",
    "print(\"The ARN for the role is {}\".format(comprehend_arn))"
   ]
  },
  {
   "cell_type": "markdown",
   "metadata": {},
   "source": [
    "### 2. 创建训练任务"
   ]
  },
  {
   "cell_type": "code",
   "execution_count": null,
   "metadata": {},
   "outputs": [],
   "source": [
    "comprehend_client = boto3.client(\"comprehend\")\n",
    "response = comprehend_client.create_entity_recognizer(\n",
    "    RecognizerName=\"Recognizer-Name-Goes-Here-{}\".format(datetime.now()).replace(' ','-').replace(':','-').replace('.','-'),\n",
    "    LanguageCode=\"en\",\n",
    "    DataAccessRoleArn=comprehend_arn,\n",
    "    InputDataConfig={\n",
    "        \"EntityTypes\": [\n",
    "            {\n",
    "                'Type': \"AWS_OFFERING\"\n",
    "            }\n",
    "        ],\n",
    "        'EntityList': {\n",
    "            'S3Uri': \"s3://{}/{}/aws-offerings.csv\".format(bucket_name,s3_entity_prefix)\n",
    "        },\n",
    "        'Documents': {\n",
    "            'S3Uri': \"s3://{}/{}/aws-offerings-docs.txt\".format(bucket_name,s3_entity_prefix)\n",
    "        },\n",
    "        \n",
    "    }\n",
    ")\n",
    "recognizer_arn = response[\"EntityRecognizerArn\"]\n",
    "print(\"The ARN for the entity recognizer is {}\".format(recognizer_arn))"
   ]
  },
  {
   "cell_type": "markdown",
   "metadata": {},
   "source": [
    "### 3. 检查训练任务的状态"
   ]
  },
  {
   "cell_type": "code",
   "execution_count": null,
   "metadata": {},
   "outputs": [],
   "source": [
    "response = comprehend_client.describe_entity_recognizer(\n",
    "    EntityRecognizerArn=recognizer_arn\n",
    ")\n",
    "#The possible statuses for the custom entity recognizer are: 'SUBMITTED'|'TRAINING'|'DELETING'|'STOP_REQUESTED'|'STOPPED'|'IN_ERROR'|'TRAINED'\n",
    "print(\"The status of the custom entity recognizer is {}\".format(response['EntityRecognizerProperties']['Status']))"
   ]
  },
  {
   "cell_type": "markdown",
   "metadata": {},
   "source": [
    "### 4. 查看训练相关指标"
   ]
  },
  {
   "cell_type": "code",
   "execution_count": null,
   "metadata": {},
   "outputs": [],
   "source": [
    "response = comprehend_client.describe_entity_recognizer(\n",
    "    EntityRecognizerArn=recognizer_arn\n",
    ")\n",
    "if response['EntityRecognizerProperties']['Status'] == 'TRAINED':\n",
    "    print(json.dumps(response['EntityRecognizerProperties']['RecognizerMetadata'], indent=2))\n",
    "else:\n",
    "    print (\"Training job has not completed yet.  Please wait to check training performance until it has.\")"
   ]
  },
  {
   "cell_type": "markdown",
   "metadata": {},
   "source": [
    "### 5. 创建批量转化作业"
   ]
  },
  {
   "cell_type": "code",
   "execution_count": null,
   "metadata": {},
   "outputs": [],
   "source": [
    "response = comprehend_client.describe_entity_recognizer(\n",
    "    EntityRecognizerArn=recognizer_arn\n",
    ")\n",
    "if response['EntityRecognizerProperties']['Status'] == 'TRAINED':\n",
    "    response = comprehend_client.start_entities_detection_job(\n",
    "        JobName='AWS_OFFERING-001',\n",
    "        EntityRecognizerArn=recognizer_arn,\n",
    "        LanguageCode=\"en\",\n",
    "        DataAccessRoleArn=comprehend_arn,\n",
    "        InputDataConfig={\n",
    "            'S3Uri': \"s3://{}/{}/aws-offerings-test.txt\".format(bucket_name,s3_entity_prefix),\n",
    "            'InputFormat': 'ONE_DOC_PER_LINE'\n",
    "        },\n",
    "        OutputDataConfig={\n",
    "            'S3Uri': \"s3://{}/{}/results/\".format(bucket_name,s3_entity_prefix)\n",
    "        }\n",
    "    )\n",
    "    job_id = response['JobId']\n",
    "else:\n",
    "    print (\"Training job has not completed yet.  Please wait to start batch entity recognitino job until it has.\")"
   ]
  },
  {
   "cell_type": "markdown",
   "metadata": {},
   "source": [
    "### 6. 检查批量转换作业的状态 "
   ]
  },
  {
   "cell_type": "code",
   "execution_count": null,
   "metadata": {},
   "outputs": [],
   "source": [
    "response = comprehend_client.describe_entities_detection_job(\n",
    "    JobId=job_id\n",
    ")\n",
    "print(\"The status of the batch entity detection job is {}\".format(response['EntitiesDetectionJobProperties']['JobStatus']))"
   ]
  },
  {
   "cell_type": "markdown",
   "metadata": {},
   "source": [
    "### 7. 下载批处理作业的输出"
   ]
  },
  {
   "cell_type": "code",
   "execution_count": null,
   "metadata": {},
   "outputs": [],
   "source": [
    "response = comprehend_client.describe_entities_detection_job(\n",
    "    JobId=job_id\n",
    ")\n",
    "if response['EntitiesDetectionJobProperties']['JobStatus'] == \"COMPLETED\":\n",
    "    output_s3_uri = response['EntitiesDetectionJobProperties']['OutputDataConfig']['S3Uri']\n",
    "    s3_key = output_s3_uri.replace(\"s3://{}/\".format(bucket_name),'')\n",
    "    s3.meta.client.download_file(bucket_name, s3_key, 'output.tar.gz')\n",
    "    !tar zxvf output.tar.gz\n",
    "else:\n",
    "    print(\"Batch transformation job not complete.  Please wait until this job is completed before attempting to view output.\")"
   ]
  },
  {
   "cell_type": "markdown",
   "metadata": {},
   "source": [
    "### 8. 让我们回顾一下测试数据并查看输出结果"
   ]
  },
  {
   "cell_type": "code",
   "execution_count": null,
   "metadata": {},
   "outputs": [],
   "source": [
    "response = comprehend_client.describe_entities_detection_job(\n",
    "    JobId=job_id\n",
    ")\n",
    "if response['EntitiesDetectionJobProperties']['JobStatus'] == \"COMPLETED\":\n",
    "    !head -20 aws-offerings-test.txt\n",
    "else:\n",
    "    print(\"Batch transformation job not complete.  Please wait until this job is completed before attempting to view output.\")"
   ]
  },
  {
   "cell_type": "code",
   "execution_count": null,
   "metadata": {},
   "outputs": [],
   "source": [
    "response = comprehend_client.describe_entities_detection_job(\n",
    "    JobId=job_id\n",
    ")\n",
    "if response['EntitiesDetectionJobProperties']['JobStatus'] == \"COMPLETED\":\n",
    "    !cat output\n",
    "else:\n",
    "    print(\"Batch transformation job not complete.  Please wait until this job is completed before attempting to view output.\")"
   ]
  },
  {
   "cell_type": "code",
   "execution_count": null,
   "metadata": {},
   "outputs": [],
   "source": []
  }
 ],
 "metadata": {
  "kernelspec": {
   "display_name": "conda_python3",
   "language": "python",
   "name": "conda_python3"
  },
  "language_info": {
   "codemirror_mode": {
    "name": "ipython",
    "version": 3
   },
   "file_extension": ".py",
   "mimetype": "text/x-python",
   "name": "python",
   "nbconvert_exporter": "python",
   "pygments_lexer": "ipython3",
   "version": "3.6.13"
  }
 },
 "nbformat": 4,
 "nbformat_minor": 4
}
