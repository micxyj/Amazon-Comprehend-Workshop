{
 "cells": [
  {
   "cell_type": "markdown",
   "id": "c3a9fb93",
   "metadata": {},
   "source": [
    "# 使用 Amazon Comprehend 进行主题建模\n",
    "\n",
    "您可以使用 Amazon Comprehend 检查文档集合的内容以确定主题。例如，您可以为 Amazon Comprehend 提供一系列新闻文章，它将决定文章的主题，例如体育、政治或娱乐。文档中的文本无需进行注释。\n",
    "\n",
    "Amazon Comprehend 使用隐狄利克雷分布（LDA）以确定一组文档中的主题。它会检查每个文档以确定单词的上下文和含义。\n",
    "\n",
    "为了获得最准确的结果，您应为 Amazon Comprehend 提供尽可能多的语料库。若要获得最佳效果，建议您：\n",
    "\n",
    "- 在每个主题建模作业中，应至少使用 1,000 个文档。\n",
    "\n",
    "- 每个文档应至少有 100 个字符。\n",
    "\n",
    "- 如果文档主要由数字数据组成，则应将其从语料库中删除。\n",
    "\n",
    "主题建模是一个异步过程。您可以使用 Amazon S3 存放文本数据，并向 Amazon Comprehend 提交文档列表\n",
    "\n",
    "注：Amazon Comprehend 主题建模目前还不支持中文"
   ]
  },
  {
   "cell_type": "markdown",
   "id": "578779fd",
   "metadata": {},
   "source": [
    "### 导入相关依赖"
   ]
  },
  {
   "cell_type": "code",
   "execution_count": null,
   "id": "d88340ed",
   "metadata": {},
   "outputs": [],
   "source": [
    "import boto3\n",
    "import time\n",
    "import pandas as pd"
   ]
  },
  {
   "cell_type": "code",
   "execution_count": null,
   "id": "908dfee6",
   "metadata": {},
   "outputs": [],
   "source": [
    "# 验证S3桶是否已经存在\n",
    "sts_client = boto3.client(\"sts\")\n",
    "account_id = sts_client.get_caller_identity()[\"Account\"]\n",
    "print(\"Your account id is {}\".format(account_id))\n",
    "\n",
    "bucket_name = \"comprehend-labs\" + account_id +  \"-2\"\n",
    "print (\"Bucket name used is \" + bucket_name)\n",
    "s3 = boto3.resource('s3')\n",
    "s3_client = boto3.client('s3')\n",
    "\n",
    "if (s3.Bucket(bucket_name).creation_date is None):\n",
    "    s3_client.create_bucket(Bucket=bucket_name)\n",
    "    print (\"Created bucket \" + bucket_name)\n",
    "else:\n",
    "    print (\"Bucket Exists\")"
   ]
  },
  {
   "cell_type": "markdown",
   "id": "b3cf913a",
   "metadata": {},
   "source": [
    "### 查看用于主题建模的文本数据\n",
    "\n",
    "在Sample.txt中每一行对应一篇文档"
   ]
  },
  {
   "cell_type": "code",
   "execution_count": null,
   "id": "8a9da550",
   "metadata": {},
   "outputs": [],
   "source": [
    "!head Sample.txt"
   ]
  },
  {
   "cell_type": "markdown",
   "id": "136ffa12",
   "metadata": {},
   "source": [
    "### 创建主题建模任务"
   ]
  },
  {
   "cell_type": "code",
   "execution_count": null,
   "id": "1f3c1dd2",
   "metadata": {},
   "outputs": [],
   "source": [
    "# 上传文本数据至S3\n",
    "s3 = boto3.resource('s3')\n",
    "prefix = 'topic_model'\n",
    "\n",
    "s3.Bucket(bucket_name).upload_file(\"Sample.txt\", \"{}/Sample.txt\".format(prefix))"
   ]
  },
  {
   "cell_type": "code",
   "execution_count": null,
   "id": "038c620f",
   "metadata": {},
   "outputs": [],
   "source": [
    "# 获取执行角色\n",
    "role_name = 'AmazonComprehendServiceRoleS3FullAccess-ComprehendLabs'\n",
    "iam_client = boto3.client(\"iam\")\n",
    "response = iam_client.get_role(\n",
    "    RoleName=role_name\n",
    ")\n",
    "comprehend_arn = response['Role']['Arn']\n",
    "print(\"The ARN for the role is {}\".format(comprehend_arn))"
   ]
  },
  {
   "cell_type": "code",
   "execution_count": null,
   "id": "844027ed",
   "metadata": {},
   "outputs": [],
   "source": [
    "# 创建主题检测任务\n",
    "comprehend_client = boto3.client('comprehend')\n",
    "res = comprehend_client.start_topics_detection_job(\n",
    "    JobName='news-topic-model',\n",
    "    InputDataConfig={\n",
    "        'S3Uri': 's3://{}/{}/Sample.txt'.format(bucket_name, prefix),\n",
    "        'InputFormat': 'ONE_DOC_PER_LINE'\n",
    "    },\n",
    "    OutputDataConfig={\n",
    "        'S3Uri': 's3://{}/{}'.format(bucket_name, prefix)\n",
    "    },\n",
    "    DataAccessRoleArn=comprehend_arn,\n",
    "    NumberOfTopics=10\n",
    ")"
   ]
  },
  {
   "cell_type": "code",
   "execution_count": null,
   "id": "b1f6476a",
   "metadata": {},
   "outputs": [],
   "source": [
    "# 检查任务是否完成\n",
    "while True:\n",
    "    if comprehend_client.describe_topics_detection_job(JobId=res['JobId'])['TopicsDetectionJobProperties']['JobStatus'] == 'IN_PROGRESS':\n",
    "        print('.', end='')\n",
    "        time.sleep(3)\n",
    "    else:\n",
    "        print('Job done')\n",
    "        break"
   ]
  },
  {
   "cell_type": "markdown",
   "id": "762406d4",
   "metadata": {},
   "source": [
    "### 查看主题建模的结果"
   ]
  },
  {
   "cell_type": "code",
   "execution_count": null,
   "id": "b7677643",
   "metadata": {},
   "outputs": [],
   "source": [
    "# 下载任务输出的文件\n",
    "output = comprehend_client.describe_topics_detection_job(JobId=res['JobId'])['TopicsDetectionJobProperties']['OutputDataConfig']['S3Uri']\n",
    "output_key = output.replace('s3://'+bucket_name+'/', '')\n",
    "s3.Bucket(bucket_name).download_file(output_key, 'output.tar.gz')"
   ]
  },
  {
   "cell_type": "code",
   "execution_count": null,
   "id": "7e2eeade",
   "metadata": {},
   "outputs": [],
   "source": [
    "# 解压并查看结果\n",
    "!tar -zxvf output.tar.gz"
   ]
  },
  {
   "cell_type": "code",
   "execution_count": null,
   "id": "e5fe0a0a",
   "metadata": {},
   "outputs": [],
   "source": [
    "topic_terms_df = pd.read_csv('topic-terms.csv')\n",
    "topic_terms_df.head(10)"
   ]
  },
  {
   "cell_type": "code",
   "execution_count": null,
   "id": "0829687a",
   "metadata": {},
   "outputs": [],
   "source": [
    "doc_topics_df = pd.read_csv('doc-topics.csv')\n",
    "doc_topics_df.head(10)"
   ]
  },
  {
   "cell_type": "markdown",
   "id": "379924c8",
   "metadata": {},
   "source": [
    "- 在topic-terms文件中，我们可以看到和每个topic相关的前十个术语（该数量是创建主题建模任务时，通过NumberOfTopics来指定的）。\n",
    "- 在doc-topics文件中，我们可以看到不同文本属于topic的比例，可以通过比例大小来决定是否需要给该文本确定预测出来的主题。"
   ]
  }
 ],
 "metadata": {
  "kernelspec": {
   "display_name": "conda_python3",
   "language": "python",
   "name": "conda_python3"
  },
  "language_info": {
   "codemirror_mode": {
    "name": "ipython",
    "version": 3
   },
   "file_extension": ".py",
   "mimetype": "text/x-python",
   "name": "python",
   "nbconvert_exporter": "python",
   "pygments_lexer": "ipython3",
   "version": "3.6.13"
  }
 },
 "nbformat": 4,
 "nbformat_minor": 5
}
